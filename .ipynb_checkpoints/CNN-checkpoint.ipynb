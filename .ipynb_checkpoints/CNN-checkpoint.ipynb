{
 "cells": [
  {
   "cell_type": "code",
   "execution_count": 272,
   "id": "c970c6ab",
   "metadata": {},
   "outputs": [
    {
     "data": {
      "text/html": [
       "<style>.container { width:70% !important; }</style>"
      ],
      "text/plain": [
       "<IPython.core.display.HTML object>"
      ]
     },
     "metadata": {},
     "output_type": "display_data"
    }
   ],
   "source": [
    "from IPython.core.display import display, HTML\n",
    "display(HTML(\"<style>.container { width:70% !important; }</style>\"))"
   ]
  },
  {
   "cell_type": "code",
   "execution_count": null,
   "id": "e65a534f",
   "metadata": {},
   "outputs": [],
   "source": [
    "def torch_tensor_sizeOnDisk(tensor):\n",
    "    # in MB\n",
    "    return (tensor.element_size() * tensor.nelement()) / 1000000"
   ]
  },
  {
   "cell_type": "code",
   "execution_count": 4,
   "id": "29ae52e1",
   "metadata": {},
   "outputs": [],
   "source": [
    "def load_data(dir_load, fileName_load, path_load=None):\n",
    "    from pathlib import Path\n",
    "    import scipy.io\n",
    "    if path_load is None:\n",
    "        dir_load = Path(dir_load).resolve()\n",
    "        fileName_load = fileName_load\n",
    "        path_load = dir_load / fileName_load\n",
    "\n",
    "    dat = scipy.io.loadmat(path_load)\n",
    "    return dat"
   ]
  },
  {
   "cell_type": "code",
   "execution_count": 5,
   "id": "263a67e1",
   "metadata": {},
   "outputs": [],
   "source": [
    "from pathlib import Path\n",
    "\n",
    "dir_load = Path(r'/media/rich/bigSSD/NMA_data/Willet_data/Datasets/t5.2019.05.08').resolve()\n",
    "fileName_load = r'sentences.mat'\n",
    "\n",
    "sent = load_data(dir_load=dir_load,\n",
    "                fileName_load=fileName_load)"
   ]
  },
  {
   "cell_type": "code",
   "execution_count": 7,
   "id": "8aed323e",
   "metadata": {},
   "outputs": [
    {
     "data": {
      "text/plain": [
       "dict_keys(['__header__', '__version__', '__globals__', 'neuralActivityCube', 'sentencePrompt', 'intendedText', 'numTimeBinsPerSentence', 'sentenceCondition', 'sentenceBlockNums', 'excludedSentences', 'neuralActivityTimeSeries', 'clockTimeSeries', 'blockNumsTimeSeries', 'blockList', 'blockStartDates', 'goCueOnsetTimeBin', 'delayCueOnsetTimeBin', 'sentenceEndTimeBin', 'arrayGeometryMap', 'rnn_charProbTimeSeries', 'rnn_newCharTimeSeries', 'rnn_decodedCharTimes', 'rnn_decodedText', 'rnn_charMapASCII'])"
      ]
     },
     "execution_count": 7,
     "metadata": {},
     "output_type": "execute_result"
    }
   ],
   "source": [
    "sent.keys()"
   ]
  },
  {
   "cell_type": "code",
   "execution_count": 8,
   "id": "138c6f8b",
   "metadata": {},
   "outputs": [
    {
     "data": {
      "text/plain": [
       "array([[array(['thanks>so>much,>honey~'], dtype='<U22')],\n",
       "       [array(['but>that>seemed>to>him>to>be>the>worst>possible>tactic>to>employ~'],\n",
       "              dtype='<U65')                                                         ],\n",
       "       [array(['you>want>me>to>sing?'], dtype='<U20')],\n",
       "       [array([\"the>boycott>didn't>appear>to>have>hurt>their>business>one>bit~\"],\n",
       "              dtype='<U62')                                                      ],\n",
       "       [array([\"that's>a>promise~\"], dtype='<U17')],\n",
       "       [array(['have>you>ever>seen>a>large>cat>fold>itself>into>a>tiny>shoe>box?'],\n",
       "              dtype='<U64')                                                        ],\n",
       "       [array(['music>thumped>from>a>club>two>blocks>away~'], dtype='<U42')],\n",
       "       [array(['i>brought>this>from>a>bakery>near>me~'], dtype='<U37')],\n",
       "       [array(['then>she>kissed>her>fist>and>tossed>the>penny>into>the>reflecting>pond>full>of>pine>needles~'],\n",
       "              dtype='<U92')                                                                                    ],\n",
       "       [array(['we>tried>everything>else~'], dtype='<U25')],\n",
       "       [array(['truly,>maggie>was>the>closest>thing>to>a>sister>she>had,>at>least>amongst>relatives~'],\n",
       "              dtype='<U84')                                                                            ],\n",
       "       [array(['what>are>you>doing>calling>on>a>friday>night?'], dtype='<U45')],\n",
       "       [array(['the>treatment>protocol>for>burn>victims>is>almost>as>painful>as>the>injury>itself~'],\n",
       "              dtype='<U82')                                                                          ],\n",
       "       [array([\"and>i>promise>we'll>do>our>best>to>treat>the>old>place>with>the>respect>it>deserves~\"],\n",
       "              dtype='<U84')                                                                            ],\n",
       "       [array(['jake>wants>a>normal>life~'], dtype='<U25')],\n",
       "       [array([\"so>far,>i>haven't>had>a>lot>of>luck>with>that~\"], dtype='<U46')],\n",
       "       [array(['my>family>has>owned>the>place>for>close>to>fifty>years~'],\n",
       "              dtype='<U55')                                               ],\n",
       "       [array(['my>parents>went>to>visit>mahlon>and>maggie>and>the>children~'],\n",
       "              dtype='<U60')                                                    ],\n",
       "       [array(['even>mother>might>roll>her>eyes~'], dtype='<U32')],\n",
       "       [array(['of>course,>i>was>always>aware>of>my>surroundings>when>she>was>with>me~'],\n",
       "              dtype='<U70')                                                              ],\n",
       "       [array(['dantrelle>nodded>and>i>pulled>out>my>biggest>pot>and>heated>the>oil~'],\n",
       "              dtype='<U68')                                                            ],\n",
       "       [array(['the>jeep>was>thirsty>so>i>stopped>for>gas>on>the>edge>of>town~'],\n",
       "              dtype='<U62')                                                      ],\n",
       "       [array(['her>grandfather>had>been>arrested~'], dtype='<U34')],\n",
       "       [array(['what>lasting>impact>did>that>have>on>you?'], dtype='<U41')],\n",
       "       [array(['so>within>each>company,>the>results>should>be>exactly>the>same~'],\n",
       "              dtype='<U63')                                                       ],\n",
       "       [array([\"we're>not>going>to>live>under>that>threat~\"], dtype='<U42')],\n",
       "       [array(['he>has>great>hair~'], dtype='<U18')],\n",
       "       [array(['i>want>to>bring>in>our>legal>team~'], dtype='<U34')],\n",
       "       [array(['adopting>a>dog>forced>me>to>get>outside>every>day~'], dtype='<U50')],\n",
       "       [array(['it>was>quite>a>sight~'], dtype='<U21')],\n",
       "       [array([\"i'm>sorry>it's>under>these>circumstances~\"], dtype='<U41')],\n",
       "       [array(['michael>never>goes>anywhere>without>looking>over>his>shoulder~'],\n",
       "              dtype='<U62')                                                      ],\n",
       "       [array([\"inside>jake's>duffel>bag,>a>knife>and>a>large>sledgehammer~\"],\n",
       "              dtype='<U59')                                                   ],\n",
       "       [array([\"because>less>than>a>quarter>mile>from>where>i'm>standing>right>now>is>where>alla's>body>was>dumped~\"],\n",
       "              dtype='<U99')                                                                                           ],\n",
       "       [array(['there>are>moments>when>gentle>background>singing>brings>the>song>close>to>gospel~'],\n",
       "              dtype='<U81')                                                                         ],\n",
       "       [array([\"family>is>the>most>important>thing>in>life,>don't>ever>take>yours>for>granted~\"],\n",
       "              dtype='<U78')                                                                      ],\n",
       "       [array(['good>morning,>everyone~'], dtype='<U23')],\n",
       "       [array(['basically,>men>were>lying>about>how>much>experience>they>had~'],\n",
       "              dtype='<U61')                                                     ],\n",
       "       [array(['there>are>no>rules>anymore,>luke~'], dtype='<U33')],\n",
       "       [array([\"so>you>could>literally>see>here's>what>every>single>person>in>the>company>gets>paid~\"],\n",
       "              dtype='<U84')                                                                            ],\n",
       "       [array([\"i>didn't>want>to>get>out>of>bed~\"], dtype='<U32')],\n",
       "       [array(['the>best>way>to>see>a>worthwhile>film>is>however>you>can~'],\n",
       "              dtype='<U57')                                                 ],\n",
       "       [array([\"the>super>bowl>is>in>houston,>and>texas>doesn't>collect>income>tax~\"],\n",
       "              dtype='<U67')                                                           ],\n",
       "       [array([\"studying>venus>could>offer>a>window>into>our>planet's>distant>future~\"],\n",
       "              dtype='<U69')                                                             ],\n",
       "       [array(['the>answer>is>a>little>bit>of>both~'], dtype='<U35')],\n",
       "       [array(['the>boots>are>not>secure>enough>for>fast>movements~'],\n",
       "              dtype='<U51')                                           ],\n",
       "       [array(['in>college>football,>salts>are>already>common~'], dtype='<U46')],\n",
       "       [array(['one>lesson>i>learned>early>on>happened>when>a>competitor>cut>me>out>of>a>project~'],\n",
       "              dtype='<U81')                                                                         ],\n",
       "       [array([\"it's>going>to>be>hard>to>say>goodbye~\"], dtype='<U37')],\n",
       "       [array(['ships>were>the>largest,>most>complex>and>most>expensive>machines>that>existed>at>this>time~'],\n",
       "              dtype='<U91')                                                                                   ],\n",
       "       [array(['it>fit>easily>into>my>pocket>and>was>a>snap>to>unfold~'],\n",
       "              dtype='<U54')                                              ],\n",
       "       [array(['we>can>never>know>for>sure,>jain>notes,>until>we>get>to>such>a>point~'],\n",
       "              dtype='<U69')                                                             ],\n",
       "       [array(['over>the>weekend,>as>puerto>ricans>ran>perilously>low>on>food,>water>and>fuel,>he>posted>nothing>about>the>crisis~'],\n",
       "              dtype='<U114')                                                                                                         ],\n",
       "       [array(['so>it>might>be>nice>to>just>kind>of>normalize>it>a>little>bit~'],\n",
       "              dtype='<U62')                                                      ],\n",
       "       [array(['i>told>you>we>were>going>to>bring>this>sucker>home,>and>we>brought>it>home~'],\n",
       "              dtype='<U75')                                                                   ],\n",
       "       [array(['four>years>ago,>i>was>bashful>and>afraid>to>talk>to>anyone~'],\n",
       "              dtype='<U59')                                                   ],\n",
       "       [array(['who>the>flying>fuck>cleans>their>cat>litter>on>the>kitchen>counter???'],\n",
       "              dtype='<U69')                                                             ],\n",
       "       [array(['whether>that>happens,>however,>at>the>end>of>the>day>will>depend>on>josh~'],\n",
       "              dtype='<U73')                                                                 ],\n",
       "       [array(['facebook>had>dismantled>two>of>the>biggest>barriers>to>people>trying>new>web>services~'],\n",
       "              dtype='<U86')                                                                              ],\n",
       "       [array(['maybe>a>few>people>took>comfort>in>this>basically>incomprehensible>word>mess~'],\n",
       "              dtype='<U77')                                                                     ],\n",
       "       [array(['this>is>a>historic>opportunity>to>address>one>of>the>biggest>problems>facing>our>electoral>system~'],\n",
       "              dtype='<U98')                                                                                          ],\n",
       "       [array(['reagan>got>his>way>on>the>budget>more>than>35>years>ago~'],\n",
       "              dtype='<U56')                                                ],\n",
       "       [array([\"but>he's>another>guy>with>a>full>toolbox>of>things>he>can>do~\"],\n",
       "              dtype='<U61')                                                     ],\n",
       "       [array([\"it's>definitely>one>of>the>toughest>times>i've>ever>had>to>go>through~\"],\n",
       "              dtype='<U70')                                                              ],\n",
       "       [array(['long>term,>the>plan>is>to>move>towards>the>classic>american>steakhouse~'],\n",
       "              dtype='<U71')                                                               ],\n",
       "       [array(['i>think>it>was>well>worth>it~'], dtype='<U29')],\n",
       "       [array(['most>prisoners>had>little>hope>of>ever>leaving~'], dtype='<U47')],\n",
       "       [array(['when>the>first>commercial>cameras>appeared>on>the>market,>he>became>obsessed>with>them~'],\n",
       "              dtype='<U87')                                                                               ],\n",
       "       [array(['the>coaching>staff>really>cares>about>you~'], dtype='<U42')],\n",
       "       [array(['i>often>saw>diane~'], dtype='<U18')],\n",
       "       [array(['see>you>all>in>cooperstown>this>summer~'], dtype='<U39')],\n",
       "       [array(['effort>and>the>way>they>play>is>very>much>an>issue>with>the>giants~'],\n",
       "              dtype='<U67')                                                           ],\n",
       "       [array([\"he's>not>going>to>leave>his>wife~\"], dtype='<U33')],\n",
       "       [array(['happy>to>express>my>view>on>that~'], dtype='<U33')],\n",
       "       [array(['one>man>was>rescued>after>seven>hours>in>the>snow~'], dtype='<U50')],\n",
       "       [array([\"both>young>men>are>angry>over>their>father's>death~\"],\n",
       "              dtype='<U51')                                           ],\n",
       "       [array(['then>i>saw>a>shoe>on>the>ground~'], dtype='<U32')],\n",
       "       [array(['while>this>is>not>closure>at>all,>it>closes>a>chapter~'],\n",
       "              dtype='<U54')                                              ],\n",
       "       [array(['people>forget>that>the>internet>is>a>physical>thing~'],\n",
       "              dtype='<U52')                                            ],\n",
       "       [array(['a>big>downpour>left>a>puddle>in>the>living>room~'], dtype='<U48')],\n",
       "       [array(['perhaps>the>court>will>chart>its>owns>course~'], dtype='<U45')],\n",
       "       [array(['she>also>wants>to>spread>the>word>about>eating>the>proper>diet>if>you>have>an>inflammatory>bowel>disease~'],\n",
       "              dtype='<U105')                                                                                                ],\n",
       "       [array(['three>studies>had>no>mention>of>ethical>review>or>an>informed>consent>process~'],\n",
       "              dtype='<U78')                                                                      ],\n",
       "       [array(['schoolchildren>on>the>island>continue>to>read>the>novel~'],\n",
       "              dtype='<U56')                                                ],\n",
       "       [array(['this>was>captured>by>the>icon>of>a>city>upon>a>hill~'],\n",
       "              dtype='<U52')                                            ],\n",
       "       [array(['it>is>an>empty>abstraction~'], dtype='<U27')],\n",
       "       [array(['he>watches>from>his>mountain>walls~'], dtype='<U35')],\n",
       "       [array(['future>research>will>take>us>beyond>anecdotes~'], dtype='<U46')],\n",
       "       [array(['this>is>a>question>and>answer>session>between>participants>with>opposing>viewpoints~'],\n",
       "              dtype='<U84')                                                                            ],\n",
       "       [array(['additionally,>the>unique>collaboration>among>many>partners>will>help>to>reduce>duplication>in>our>system~'],\n",
       "              dtype='<U105')                                                                                                ],\n",
       "       [array(['what>rent>do>you>pay>for>your>housing?'], dtype='<U38')],\n",
       "       [array(['plainly,>there>is>a>clear>and>present>need>to>secure>information>in>the>public>and>private>sectors~'],\n",
       "              dtype='<U99')                                                                                           ],\n",
       "       [array(['she>was>a>terrible>woman~'], dtype='<U25')],\n",
       "       [array(['the>american>business>community>was>slow>to>figure>out>what>worked>in>this>context~'],\n",
       "              dtype='<U83')                                                                           ],\n",
       "       [array(['like>many>basaltic>volcanic>peaks,>it>is>a>mecca>for>sea>creatures~'],\n",
       "              dtype='<U67')                                                           ],\n",
       "       [array(['are>there>other>such>rituals?'], dtype='<U29')],\n",
       "       [array(['the>agent>on>my>third>trip>was>a>young>woman~'], dtype='<U45')],\n",
       "       [array(['this>insight>plays>an>important>role>in>the>economic>analysis>of>criminal>law~'],\n",
       "              dtype='<U78')                                                                      ],\n",
       "       [array(['i>thought>i>could>fix>it>but>got>trapped>by>my>ego>and>refusal>to>fail~'],\n",
       "              dtype='<U71')                                                               ],\n",
       "       [array(['china>is>one>of>the>nations>that>did>not>sign>the>port>agreement~'],\n",
       "              dtype='<U65')                                                         ],\n",
       "       [array(['this>marketplace>is>changing>so>fast>that>what>was>news>four>days>ago>is>history>and>is>probably>inaccurate>now~'],\n",
       "              dtype='<U112')                                                                                                       ],\n",
       "       [array(['on>the>other>hand,>let>us>suppose>that>ours>is>the>only>universe~'],\n",
       "              dtype='<U65')                                                         ]],\n",
       "      dtype=object)"
      ]
     },
     "execution_count": 8,
     "metadata": {},
     "output_type": "execute_result"
    }
   ],
   "source": [
    "sent['sentencePrompt']"
   ]
  },
  {
   "cell_type": "code",
   "execution_count": 9,
   "id": "910d35dd",
   "metadata": {},
   "outputs": [],
   "source": [
    "import sys\n",
    "sys.path.append(r'/media/rich/Home_Linux_partition/github_repos/')\n",
    "\n",
    "from basic_neural_processing_modules import misc"
   ]
  },
  {
   "cell_type": "code",
   "execution_count": 244,
   "id": "ebb4dca6",
   "metadata": {},
   "outputs": [
    {
     "data": {
      "text/plain": [
       "0"
      ]
     },
     "execution_count": 244,
     "metadata": {},
     "output_type": "execute_result"
    }
   ],
   "source": [
    "ii_bat"
   ]
  },
  {
   "cell_type": "code",
   "execution_count": 255,
   "id": "da565693",
   "metadata": {},
   "outputs": [
    {
     "data": {
      "application/vnd.jupyter.widget-view+json": {
       "model_id": "1728dedfd75d43178339802dd5ee56a2",
       "version_major": 2,
       "version_minor": 0
      },
      "text/plain": [
       "  0%|          | 0/20 [00:00<?, ?it/s]"
      ]
     },
     "metadata": {},
     "output_type": "display_data"
    },
    {
     "name": "stdout",
     "output_type": "stream",
     "text": [
      "(bat num 14), (iter 0)\n",
      "(bat num 3), (iter 1)\n",
      "(bat num 16), (iter 2)\n",
      "(bat num 15), (iter 3)\n",
      "(bat num 6), (iter 4)\n",
      "(bat num 11), (iter 5)\n",
      "(bat num 10), (iter 6)\n",
      "(bat num 5), (iter 7)\n",
      "(bat num 12), (iter 8)\n",
      "(bat num 2), (iter 9)\n",
      "(bat num 0), (iter 10)\n",
      "(bat num 18), (iter 11)\n",
      "(bat num 1), (iter 12)\n",
      "(bat num 4), (iter 13)\n",
      "(bat num 7), (iter 14)\n",
      "(bat num 8), (iter 15)\n",
      "(bat num 9), (iter 16)\n",
      "(bat num 19), (iter 17)\n",
      "(bat num 13), (iter 18)\n",
      "(bat num 17), (iter 19)\n"
     ]
    }
   ],
   "source": [
    "for i_bat, bat_num in enumerate(tqdm(torch.randperm(n_bats))):\n",
    "    print(f'(bat num {bat_num}), (iter {i_bat})')"
   ]
  },
  {
   "cell_type": "code",
   "execution_count": 267,
   "id": "0c7fe2f7",
   "metadata": {},
   "outputs": [
    {
     "data": {
      "application/vnd.jupyter.widget-view+json": {
       "model_id": "3894a5edcc7e458a93ce01ba7d7beaca",
       "version_major": 2,
       "version_minor": 0
      },
      "text/plain": [
       "  0%|          | 0/10 [00:00<?, ?it/s]"
      ]
     },
     "metadata": {},
     "output_type": "display_data"
    },
    {
     "name": "stdout",
     "output_type": "stream",
     "text": [
      "using day: t5.2019.12.20, (day num 5), (day iter 0)\n"
     ]
    },
    {
     "data": {
      "application/vnd.jupyter.widget-view+json": {
       "model_id": "51d7aa39e0f8402d93bf0e81cda9f4b5",
       "version_major": 2,
       "version_minor": 0
      },
      "text/plain": [
       "  0%|          | 0/20 [00:00<?, ?it/s]"
      ]
     },
     "metadata": {},
     "output_type": "display_data"
    },
    {
     "name": "stdout",
     "output_type": "stream",
     "text": [
      "(bat num 15), (bat iter 0)\n",
      "(bat num 11), (bat iter 1)\n",
      "(bat num 16), (bat iter 2)\n",
      "(bat num 0), (bat iter 3)\n",
      "(bat num 10), (bat iter 4)\n",
      "(bat num 1), (bat iter 5)\n",
      "(bat num 14), (bat iter 6)\n",
      "(bat num 5), (bat iter 7)\n",
      "(bat num 7), (bat iter 8)\n",
      "(bat num 12), (bat iter 9)\n",
      "(bat num 4), (bat iter 10)\n",
      "(bat num 2), (bat iter 11)\n",
      "(bat num 8), (bat iter 12)\n",
      "(bat num 18), (bat iter 13)\n",
      "(bat num 3), (bat iter 14)\n",
      "(bat num 6), (bat iter 15)\n",
      "(bat num 13), (bat iter 16)\n",
      "(bat num 17), (bat iter 17)\n",
      "(bat num 9), (bat iter 18)\n",
      "(bat num 19), (bat iter 19)\n",
      "using day: t5.2020.01.13, (day num 8), (day iter 1)\n"
     ]
    },
    {
     "data": {
      "application/vnd.jupyter.widget-view+json": {
       "model_id": "c8a423ce96294d6f98cb08f14123f396",
       "version_major": 2,
       "version_minor": 0
      },
      "text/plain": [
       "  0%|          | 0/20 [00:00<?, ?it/s]"
      ]
     },
     "metadata": {},
     "output_type": "display_data"
    },
    {
     "name": "stdout",
     "output_type": "stream",
     "text": [
      "(bat num 8), (bat iter 0)\n",
      "(bat num 2), (bat iter 1)\n",
      "(bat num 16), (bat iter 2)\n",
      "(bat num 10), (bat iter 3)\n",
      "(bat num 0), (bat iter 4)\n",
      "(bat num 7), (bat iter 5)\n",
      "(bat num 9), (bat iter 6)\n"
     ]
    },
    {
     "ename": "KeyboardInterrupt",
     "evalue": "",
     "output_type": "error",
     "traceback": [
      "\u001b[0;31m---------------------------------------------------------------------------\u001b[0m",
      "\u001b[0;31mKeyboardInterrupt\u001b[0m                         Traceback (most recent call last)",
      "\u001b[0;32m<ipython-input-267-229b24a84942>\u001b[0m in \u001b[0;36m<module>\u001b[0;34m\u001b[0m\n\u001b[1;32m     40\u001b[0m             \u001b[0midx_val\u001b[0m \u001b[0;34m=\u001b[0m \u001b[0mnp\u001b[0m\u001b[0;34m.\u001b[0m\u001b[0marange\u001b[0m\u001b[0;34m(\u001b[0m\u001b[0mnp\u001b[0m\u001b[0;34m.\u001b[0m\u001b[0mround\u001b[0m\u001b[0;34m(\u001b[0m\u001b[0mbatch_size\u001b[0m \u001b[0;34m*\u001b[0m \u001b[0;34m(\u001b[0m\u001b[0;36m1\u001b[0m\u001b[0;34m-\u001b[0m\u001b[0mval_fraction\u001b[0m\u001b[0;34m)\u001b[0m\u001b[0;34m)\u001b[0m\u001b[0;34m,\u001b[0m \u001b[0mbatch_size\u001b[0m\u001b[0;34m)\u001b[0m\u001b[0;34m\u001b[0m\u001b[0;34m\u001b[0m\u001b[0m\n\u001b[1;32m     41\u001b[0m \u001b[0;34m\u001b[0m\u001b[0m\n\u001b[0;32m---> 42\u001b[0;31m             \u001b[0;32mfor\u001b[0m \u001b[0mi_day\u001b[0m\u001b[0;34m,\u001b[0m \u001b[0mdata\u001b[0m \u001b[0;32min\u001b[0m \u001b[0menumerate\u001b[0m\u001b[0;34m(\u001b[0m\u001b[0mloader\u001b[0m\u001b[0;34m)\u001b[0m\u001b[0;34m:\u001b[0m\u001b[0;34m\u001b[0m\u001b[0;34m\u001b[0m\u001b[0m\n\u001b[0m\u001b[1;32m     43\u001b[0m                 \u001b[0mminibatch_size\u001b[0m \u001b[0;34m=\u001b[0m \u001b[0mdata\u001b[0m\u001b[0;34m[\u001b[0m\u001b[0;34m'labels'\u001b[0m\u001b[0;34m]\u001b[0m\u001b[0;34m.\u001b[0m\u001b[0mshape\u001b[0m\u001b[0;34m[\u001b[0m\u001b[0;36m0\u001b[0m\u001b[0;34m]\u001b[0m\u001b[0;34m\u001b[0m\u001b[0;34m\u001b[0m\u001b[0m\n\u001b[1;32m     44\u001b[0m                 \u001b[0;32mif\u001b[0m \u001b[0mminibatch_size\u001b[0m \u001b[0;34m<\u001b[0m \u001b[0;36m10\u001b[0m\u001b[0;34m:\u001b[0m\u001b[0;34m\u001b[0m\u001b[0;34m\u001b[0m\u001b[0m\n",
      "\u001b[0;32m/media/rich/OS/Users/Richard/Linux_stuff_on_OS/conda_envs/envs/rapids-0.19/lib/python3.8/site-packages/torch/utils/data/dataloader.py\u001b[0m in \u001b[0;36m__next__\u001b[0;34m(self)\u001b[0m\n\u001b[1;32m    519\u001b[0m             \u001b[0;32mif\u001b[0m \u001b[0mself\u001b[0m\u001b[0;34m.\u001b[0m\u001b[0m_sampler_iter\u001b[0m \u001b[0;32mis\u001b[0m \u001b[0;32mNone\u001b[0m\u001b[0;34m:\u001b[0m\u001b[0;34m\u001b[0m\u001b[0;34m\u001b[0m\u001b[0m\n\u001b[1;32m    520\u001b[0m                 \u001b[0mself\u001b[0m\u001b[0;34m.\u001b[0m\u001b[0m_reset\u001b[0m\u001b[0;34m(\u001b[0m\u001b[0;34m)\u001b[0m\u001b[0;34m\u001b[0m\u001b[0;34m\u001b[0m\u001b[0m\n\u001b[0;32m--> 521\u001b[0;31m             \u001b[0mdata\u001b[0m \u001b[0;34m=\u001b[0m \u001b[0mself\u001b[0m\u001b[0;34m.\u001b[0m\u001b[0m_next_data\u001b[0m\u001b[0;34m(\u001b[0m\u001b[0;34m)\u001b[0m\u001b[0;34m\u001b[0m\u001b[0;34m\u001b[0m\u001b[0m\n\u001b[0m\u001b[1;32m    522\u001b[0m             \u001b[0mself\u001b[0m\u001b[0;34m.\u001b[0m\u001b[0m_num_yielded\u001b[0m \u001b[0;34m+=\u001b[0m \u001b[0;36m1\u001b[0m\u001b[0;34m\u001b[0m\u001b[0;34m\u001b[0m\u001b[0m\n\u001b[1;32m    523\u001b[0m             \u001b[0;32mif\u001b[0m \u001b[0mself\u001b[0m\u001b[0;34m.\u001b[0m\u001b[0m_dataset_kind\u001b[0m \u001b[0;34m==\u001b[0m \u001b[0m_DatasetKind\u001b[0m\u001b[0;34m.\u001b[0m\u001b[0mIterable\u001b[0m \u001b[0;32mand\u001b[0m\u001b[0;31m \u001b[0m\u001b[0;31m\\\u001b[0m\u001b[0;34m\u001b[0m\u001b[0;34m\u001b[0m\u001b[0m\n",
      "\u001b[0;32m/media/rich/OS/Users/Richard/Linux_stuff_on_OS/conda_envs/envs/rapids-0.19/lib/python3.8/site-packages/torch/utils/data/dataloader.py\u001b[0m in \u001b[0;36m_next_data\u001b[0;34m(self)\u001b[0m\n\u001b[1;32m    559\u001b[0m     \u001b[0;32mdef\u001b[0m \u001b[0m_next_data\u001b[0m\u001b[0;34m(\u001b[0m\u001b[0mself\u001b[0m\u001b[0;34m)\u001b[0m\u001b[0;34m:\u001b[0m\u001b[0;34m\u001b[0m\u001b[0;34m\u001b[0m\u001b[0m\n\u001b[1;32m    560\u001b[0m         \u001b[0mindex\u001b[0m \u001b[0;34m=\u001b[0m \u001b[0mself\u001b[0m\u001b[0;34m.\u001b[0m\u001b[0m_next_index\u001b[0m\u001b[0;34m(\u001b[0m\u001b[0;34m)\u001b[0m  \u001b[0;31m# may raise StopIteration\u001b[0m\u001b[0;34m\u001b[0m\u001b[0;34m\u001b[0m\u001b[0m\n\u001b[0;32m--> 561\u001b[0;31m         \u001b[0mdata\u001b[0m \u001b[0;34m=\u001b[0m \u001b[0mself\u001b[0m\u001b[0;34m.\u001b[0m\u001b[0m_dataset_fetcher\u001b[0m\u001b[0;34m.\u001b[0m\u001b[0mfetch\u001b[0m\u001b[0;34m(\u001b[0m\u001b[0mindex\u001b[0m\u001b[0;34m)\u001b[0m  \u001b[0;31m# may raise StopIteration\u001b[0m\u001b[0;34m\u001b[0m\u001b[0;34m\u001b[0m\u001b[0m\n\u001b[0m\u001b[1;32m    562\u001b[0m         \u001b[0;32mif\u001b[0m \u001b[0mself\u001b[0m\u001b[0;34m.\u001b[0m\u001b[0m_pin_memory\u001b[0m\u001b[0;34m:\u001b[0m\u001b[0;34m\u001b[0m\u001b[0;34m\u001b[0m\u001b[0m\n\u001b[1;32m    563\u001b[0m             \u001b[0mdata\u001b[0m \u001b[0;34m=\u001b[0m \u001b[0m_utils\u001b[0m\u001b[0;34m.\u001b[0m\u001b[0mpin_memory\u001b[0m\u001b[0;34m.\u001b[0m\u001b[0mpin_memory\u001b[0m\u001b[0;34m(\u001b[0m\u001b[0mdata\u001b[0m\u001b[0;34m)\u001b[0m\u001b[0;34m\u001b[0m\u001b[0;34m\u001b[0m\u001b[0m\n",
      "\u001b[0;32m/media/rich/OS/Users/Richard/Linux_stuff_on_OS/conda_envs/envs/rapids-0.19/lib/python3.8/site-packages/torch/utils/data/_utils/fetch.py\u001b[0m in \u001b[0;36mfetch\u001b[0;34m(self, possibly_batched_index)\u001b[0m\n\u001b[1;32m     26\u001b[0m             \u001b[0;32mfor\u001b[0m \u001b[0m_\u001b[0m \u001b[0;32min\u001b[0m \u001b[0mpossibly_batched_index\u001b[0m\u001b[0;34m:\u001b[0m\u001b[0;34m\u001b[0m\u001b[0;34m\u001b[0m\u001b[0m\n\u001b[1;32m     27\u001b[0m                 \u001b[0;32mtry\u001b[0m\u001b[0;34m:\u001b[0m\u001b[0;34m\u001b[0m\u001b[0;34m\u001b[0m\u001b[0m\n\u001b[0;32m---> 28\u001b[0;31m                     \u001b[0mdata\u001b[0m\u001b[0;34m.\u001b[0m\u001b[0mappend\u001b[0m\u001b[0;34m(\u001b[0m\u001b[0mnext\u001b[0m\u001b[0;34m(\u001b[0m\u001b[0mself\u001b[0m\u001b[0;34m.\u001b[0m\u001b[0mdataset_iter\u001b[0m\u001b[0;34m)\u001b[0m\u001b[0;34m)\u001b[0m\u001b[0;34m\u001b[0m\u001b[0;34m\u001b[0m\u001b[0m\n\u001b[0m\u001b[1;32m     29\u001b[0m                 \u001b[0;32mexcept\u001b[0m \u001b[0mStopIteration\u001b[0m\u001b[0;34m:\u001b[0m\u001b[0;34m\u001b[0m\u001b[0;34m\u001b[0m\u001b[0m\n\u001b[1;32m     30\u001b[0m                     \u001b[0;32mbreak\u001b[0m\u001b[0;34m\u001b[0m\u001b[0;34m\u001b[0m\u001b[0m\n",
      "\u001b[0;32m/media/rich/OS/Users/Richard/Linux_stuff_on_OS/conda_envs/envs/rapids-0.19/lib/python3.8/site-packages/tfrecord/reader.py\u001b[0m in \u001b[0;36mexample_loader\u001b[0;34m(data_path, index_path, description, shard, compression_type)\u001b[0m\n\u001b[1;32m    221\u001b[0m         \u001b[0mexample\u001b[0m\u001b[0;34m.\u001b[0m\u001b[0mParseFromString\u001b[0m\u001b[0;34m(\u001b[0m\u001b[0mrecord\u001b[0m\u001b[0;34m)\u001b[0m\u001b[0;34m\u001b[0m\u001b[0;34m\u001b[0m\u001b[0m\n\u001b[1;32m    222\u001b[0m \u001b[0;34m\u001b[0m\u001b[0m\n\u001b[0;32m--> 223\u001b[0;31m         \u001b[0;32myield\u001b[0m \u001b[0mextract_feature_dict\u001b[0m\u001b[0;34m(\u001b[0m\u001b[0mexample\u001b[0m\u001b[0;34m.\u001b[0m\u001b[0mfeatures\u001b[0m\u001b[0;34m,\u001b[0m \u001b[0mdescription\u001b[0m\u001b[0;34m,\u001b[0m \u001b[0mtypename_mapping\u001b[0m\u001b[0;34m)\u001b[0m\u001b[0;34m\u001b[0m\u001b[0;34m\u001b[0m\u001b[0m\n\u001b[0m\u001b[1;32m    224\u001b[0m \u001b[0;34m\u001b[0m\u001b[0m\n\u001b[1;32m    225\u001b[0m \u001b[0;34m\u001b[0m\u001b[0m\n",
      "\u001b[0;32m/media/rich/OS/Users/Richard/Linux_stuff_on_OS/conda_envs/envs/rapids-0.19/lib/python3.8/site-packages/tfrecord/reader.py\u001b[0m in \u001b[0;36mextract_feature_dict\u001b[0;34m(features, description, typename_mapping)\u001b[0m\n\u001b[1;32m    142\u001b[0m                         f\"not {type(features)}\")\n\u001b[1;32m    143\u001b[0m \u001b[0;34m\u001b[0m\u001b[0m\n\u001b[0;32m--> 144\u001b[0;31m     \u001b[0mall_keys\u001b[0m \u001b[0;34m=\u001b[0m \u001b[0mlist\u001b[0m\u001b[0;34m(\u001b[0m\u001b[0mfeatures\u001b[0m\u001b[0;34m.\u001b[0m\u001b[0mkeys\u001b[0m\u001b[0;34m(\u001b[0m\u001b[0;34m)\u001b[0m\u001b[0;34m)\u001b[0m\u001b[0;34m\u001b[0m\u001b[0;34m\u001b[0m\u001b[0m\n\u001b[0m\u001b[1;32m    145\u001b[0m \u001b[0;34m\u001b[0m\u001b[0m\n\u001b[1;32m    146\u001b[0m     \u001b[0;32mif\u001b[0m \u001b[0mdescription\u001b[0m \u001b[0;32mis\u001b[0m \u001b[0;32mNone\u001b[0m \u001b[0;32mor\u001b[0m \u001b[0mlen\u001b[0m\u001b[0;34m(\u001b[0m\u001b[0mdescription\u001b[0m\u001b[0;34m)\u001b[0m \u001b[0;34m==\u001b[0m \u001b[0;36m0\u001b[0m\u001b[0;34m:\u001b[0m\u001b[0;34m\u001b[0m\u001b[0;34m\u001b[0m\u001b[0m\n",
      "\u001b[0;32m/media/rich/OS/Users/Richard/Linux_stuff_on_OS/conda_envs/envs/rapids-0.19/lib/python3.8/_collections_abc.py\u001b[0m in \u001b[0;36m__len__\u001b[0;34m(self)\u001b[0m\n\u001b[1;32m    700\u001b[0m \u001b[0;34m\u001b[0m\u001b[0m\n\u001b[1;32m    701\u001b[0m     \u001b[0;32mdef\u001b[0m \u001b[0m__len__\u001b[0m\u001b[0;34m(\u001b[0m\u001b[0mself\u001b[0m\u001b[0;34m)\u001b[0m\u001b[0;34m:\u001b[0m\u001b[0;34m\u001b[0m\u001b[0;34m\u001b[0m\u001b[0m\n\u001b[0;32m--> 702\u001b[0;31m         \u001b[0;32mreturn\u001b[0m \u001b[0mlen\u001b[0m\u001b[0;34m(\u001b[0m\u001b[0mself\u001b[0m\u001b[0;34m.\u001b[0m\u001b[0m_mapping\u001b[0m\u001b[0;34m)\u001b[0m\u001b[0;34m\u001b[0m\u001b[0;34m\u001b[0m\u001b[0m\n\u001b[0m\u001b[1;32m    703\u001b[0m \u001b[0;34m\u001b[0m\u001b[0m\n\u001b[1;32m    704\u001b[0m     \u001b[0;32mdef\u001b[0m \u001b[0m__repr__\u001b[0m\u001b[0;34m(\u001b[0m\u001b[0mself\u001b[0m\u001b[0;34m)\u001b[0m\u001b[0;34m:\u001b[0m\u001b[0;34m\u001b[0m\u001b[0;34m\u001b[0m\u001b[0m\n",
      "\u001b[0;31mKeyboardInterrupt\u001b[0m: "
     ]
    }
   ],
   "source": [
    "import numpy as np\n",
    "from tqdm.notebook import tqdm\n",
    "from pathlib import Path\n",
    "import torch\n",
    "from tfrecord.torch.dataset import TFRecordDataset\n",
    "\n",
    "#define which datasets to process\n",
    "dataDirs = ['t5.2019.05.08','t5.2019.11.25','t5.2019.12.09','t5.2019.12.11','t5.2019.12.18',\n",
    "            't5.2019.12.20','t5.2020.01.06','t5.2020.01.08','t5.2020.01.13','t5.2020.01.15']\n",
    "cvParts = ['HeldOutBlocks', 'HeldOutTrials']\n",
    "\n",
    "n_epochs = 100\n",
    "n_days = len(dataDirs)\n",
    "n_bats = 20\n",
    "batch_size = 256\n",
    "val_fraction = 0.2\n",
    "\n",
    "n_electrodes = 192\n",
    "n_letters = 32\n",
    "\n",
    "dir_folders = Path(r'/media/rich/bigSSD/NMA_data/Willet_data/Datasets/').resolve()\n",
    "\n",
    "for epoch in range(n_epochs):\n",
    "    \n",
    "    for i_day, day_num in enumerate(tqdm(torch.randperm(n_days))):\n",
    "        print(f'using day: {dataDirs[day_num]}, (day num {day_num}), (day iter {i_day})')\n",
    "        \n",
    "        for i_bat, bat_num in enumerate(tqdm(torch.randperm(n_bats))):\n",
    "            print(f'(bat num {bat_num}), (bat iter {i_bat})')\n",
    "            dir_load = dir_folders / dataDirs[day_num] / cvParts[cvPartIdx] / (dataDirs[day_num]+r'_syntheticSentences') / (f'bat_{bat_num}.tfrecord')\n",
    "\n",
    "            dataset = TFRecordDataset(dir_load,\n",
    "                                      index_path=None,\n",
    "            #                           description\n",
    "                                     )\n",
    "            loader = torch.utils.data.DataLoader(dataset, batch_size=batch_size)\n",
    "\n",
    "            ## currently, training validation fraction will just be the last few sentences in each batch\n",
    "            idx_train = np.arange(0, np.round(batch_size * (1-val_fraction)))\n",
    "            idx_val = np.arange(np.round(batch_size * (1-val_fraction)), batch_size)\n",
    "\n",
    "            for i_day, data in enumerate(loader):\n",
    "                minibatch_size = data['labels'].shape[0]\n",
    "                if minibatch_size < 10:\n",
    "                    continue\n",
    "\n",
    "                idx_train = np.arange(0, np.round(minibatch_size * (1-val_fraction)))\n",
    "                idx_val = np.arange(np.round(minibatch_size * (1-val_fraction)), minibatch_size)\n",
    "\n",
    "                rs_shape = [data['inputs'].shape[0], int(data['inputs'].shape[1] / n_electrodes), n_electrodes]\n",
    "                inputs_rs = torch.reshape(data['inputs'], rs_shape)\n",
    "                rs_shape = [data['labels'].shape[0], int(data['labels'].shape[1] / n_letters), n_letters]\n",
    "                labels_rs = torch.reshape(data['labels'], rs_shape)"
   ]
  },
  {
   "cell_type": "code",
   "execution_count": 234,
   "id": "87f5d847",
   "metadata": {},
   "outputs": [
    {
     "data": {
      "text/plain": [
       "torch.Size([31, 38400])"
      ]
     },
     "execution_count": 234,
     "metadata": {},
     "output_type": "execute_result"
    }
   ],
   "source": [
    "data['labels'].shape"
   ]
  },
  {
   "cell_type": "code",
   "execution_count": 235,
   "id": "fa79431a",
   "metadata": {},
   "outputs": [
    {
     "data": {
      "text/plain": [
       "torch.Size([31, 230400])"
      ]
     },
     "execution_count": 235,
     "metadata": {},
     "output_type": "execute_result"
    }
   ],
   "source": [
    "data['inputs'].shape"
   ]
  },
  {
   "cell_type": "code",
   "execution_count": 187,
   "id": "324b9f38",
   "metadata": {},
   "outputs": [
    {
     "ename": "FileNotFoundError",
     "evalue": "[Errno 2] No such file or directory: '/bat_.tfrecord'",
     "output_type": "error",
     "traceback": [
      "\u001b[0;31m---------------------------------------------------------------------------\u001b[0m",
      "\u001b[0;31mFileNotFoundError\u001b[0m                         Traceback (most recent call last)",
      "\u001b[0;32m<ipython-input-187-36571509bec7>\u001b[0m in \u001b[0;36m<module>\u001b[0;34m\u001b[0m\n\u001b[1;32m     16\u001b[0m \u001b[0mloader\u001b[0m \u001b[0;34m=\u001b[0m \u001b[0mtorch\u001b[0m\u001b[0;34m.\u001b[0m\u001b[0mutils\u001b[0m\u001b[0;34m.\u001b[0m\u001b[0mdata\u001b[0m\u001b[0;34m.\u001b[0m\u001b[0mDataLoader\u001b[0m\u001b[0;34m(\u001b[0m\u001b[0mdataset\u001b[0m\u001b[0;34m,\u001b[0m \u001b[0mbatch_size\u001b[0m\u001b[0;34m=\u001b[0m\u001b[0;36m32\u001b[0m\u001b[0;34m)\u001b[0m\u001b[0;34m\u001b[0m\u001b[0;34m\u001b[0m\u001b[0m\n\u001b[1;32m     17\u001b[0m \u001b[0;34m\u001b[0m\u001b[0m\n\u001b[0;32m---> 18\u001b[0;31m \u001b[0mdata\u001b[0m \u001b[0;34m=\u001b[0m \u001b[0mnext\u001b[0m\u001b[0;34m(\u001b[0m\u001b[0miter\u001b[0m\u001b[0;34m(\u001b[0m\u001b[0mloader\u001b[0m\u001b[0;34m)\u001b[0m\u001b[0;34m)\u001b[0m\u001b[0;34m\u001b[0m\u001b[0;34m\u001b[0m\u001b[0m\n\u001b[0m\u001b[1;32m     19\u001b[0m \u001b[0mprint\u001b[0m\u001b[0;34m(\u001b[0m\u001b[0mdata\u001b[0m\u001b[0;34m)\u001b[0m\u001b[0;34m\u001b[0m\u001b[0;34m\u001b[0m\u001b[0m\n",
      "\u001b[0;32m/media/rich/OS/Users/Richard/Linux_stuff_on_OS/conda_envs/envs/rapids-0.19/lib/python3.8/site-packages/torch/utils/data/dataloader.py\u001b[0m in \u001b[0;36m__next__\u001b[0;34m(self)\u001b[0m\n\u001b[1;32m    519\u001b[0m             \u001b[0;32mif\u001b[0m \u001b[0mself\u001b[0m\u001b[0;34m.\u001b[0m\u001b[0m_sampler_iter\u001b[0m \u001b[0;32mis\u001b[0m \u001b[0;32mNone\u001b[0m\u001b[0;34m:\u001b[0m\u001b[0;34m\u001b[0m\u001b[0;34m\u001b[0m\u001b[0m\n\u001b[1;32m    520\u001b[0m                 \u001b[0mself\u001b[0m\u001b[0;34m.\u001b[0m\u001b[0m_reset\u001b[0m\u001b[0;34m(\u001b[0m\u001b[0;34m)\u001b[0m\u001b[0;34m\u001b[0m\u001b[0;34m\u001b[0m\u001b[0m\n\u001b[0;32m--> 521\u001b[0;31m             \u001b[0mdata\u001b[0m \u001b[0;34m=\u001b[0m \u001b[0mself\u001b[0m\u001b[0;34m.\u001b[0m\u001b[0m_next_data\u001b[0m\u001b[0;34m(\u001b[0m\u001b[0;34m)\u001b[0m\u001b[0;34m\u001b[0m\u001b[0;34m\u001b[0m\u001b[0m\n\u001b[0m\u001b[1;32m    522\u001b[0m             \u001b[0mself\u001b[0m\u001b[0;34m.\u001b[0m\u001b[0m_num_yielded\u001b[0m \u001b[0;34m+=\u001b[0m \u001b[0;36m1\u001b[0m\u001b[0;34m\u001b[0m\u001b[0;34m\u001b[0m\u001b[0m\n\u001b[1;32m    523\u001b[0m             \u001b[0;32mif\u001b[0m \u001b[0mself\u001b[0m\u001b[0;34m.\u001b[0m\u001b[0m_dataset_kind\u001b[0m \u001b[0;34m==\u001b[0m \u001b[0m_DatasetKind\u001b[0m\u001b[0;34m.\u001b[0m\u001b[0mIterable\u001b[0m \u001b[0;32mand\u001b[0m\u001b[0;31m \u001b[0m\u001b[0;31m\\\u001b[0m\u001b[0;34m\u001b[0m\u001b[0;34m\u001b[0m\u001b[0m\n",
      "\u001b[0;32m/media/rich/OS/Users/Richard/Linux_stuff_on_OS/conda_envs/envs/rapids-0.19/lib/python3.8/site-packages/torch/utils/data/dataloader.py\u001b[0m in \u001b[0;36m_next_data\u001b[0;34m(self)\u001b[0m\n\u001b[1;32m    559\u001b[0m     \u001b[0;32mdef\u001b[0m \u001b[0m_next_data\u001b[0m\u001b[0;34m(\u001b[0m\u001b[0mself\u001b[0m\u001b[0;34m)\u001b[0m\u001b[0;34m:\u001b[0m\u001b[0;34m\u001b[0m\u001b[0;34m\u001b[0m\u001b[0m\n\u001b[1;32m    560\u001b[0m         \u001b[0mindex\u001b[0m \u001b[0;34m=\u001b[0m \u001b[0mself\u001b[0m\u001b[0;34m.\u001b[0m\u001b[0m_next_index\u001b[0m\u001b[0;34m(\u001b[0m\u001b[0;34m)\u001b[0m  \u001b[0;31m# may raise StopIteration\u001b[0m\u001b[0;34m\u001b[0m\u001b[0;34m\u001b[0m\u001b[0m\n\u001b[0;32m--> 561\u001b[0;31m         \u001b[0mdata\u001b[0m \u001b[0;34m=\u001b[0m \u001b[0mself\u001b[0m\u001b[0;34m.\u001b[0m\u001b[0m_dataset_fetcher\u001b[0m\u001b[0;34m.\u001b[0m\u001b[0mfetch\u001b[0m\u001b[0;34m(\u001b[0m\u001b[0mindex\u001b[0m\u001b[0;34m)\u001b[0m  \u001b[0;31m# may raise StopIteration\u001b[0m\u001b[0;34m\u001b[0m\u001b[0;34m\u001b[0m\u001b[0m\n\u001b[0m\u001b[1;32m    562\u001b[0m         \u001b[0;32mif\u001b[0m \u001b[0mself\u001b[0m\u001b[0;34m.\u001b[0m\u001b[0m_pin_memory\u001b[0m\u001b[0;34m:\u001b[0m\u001b[0;34m\u001b[0m\u001b[0;34m\u001b[0m\u001b[0m\n\u001b[1;32m    563\u001b[0m             \u001b[0mdata\u001b[0m \u001b[0;34m=\u001b[0m \u001b[0m_utils\u001b[0m\u001b[0;34m.\u001b[0m\u001b[0mpin_memory\u001b[0m\u001b[0;34m.\u001b[0m\u001b[0mpin_memory\u001b[0m\u001b[0;34m(\u001b[0m\u001b[0mdata\u001b[0m\u001b[0;34m)\u001b[0m\u001b[0;34m\u001b[0m\u001b[0;34m\u001b[0m\u001b[0m\n",
      "\u001b[0;32m/media/rich/OS/Users/Richard/Linux_stuff_on_OS/conda_envs/envs/rapids-0.19/lib/python3.8/site-packages/torch/utils/data/_utils/fetch.py\u001b[0m in \u001b[0;36mfetch\u001b[0;34m(self, possibly_batched_index)\u001b[0m\n\u001b[1;32m     26\u001b[0m             \u001b[0;32mfor\u001b[0m \u001b[0m_\u001b[0m \u001b[0;32min\u001b[0m \u001b[0mpossibly_batched_index\u001b[0m\u001b[0;34m:\u001b[0m\u001b[0;34m\u001b[0m\u001b[0;34m\u001b[0m\u001b[0m\n\u001b[1;32m     27\u001b[0m                 \u001b[0;32mtry\u001b[0m\u001b[0;34m:\u001b[0m\u001b[0;34m\u001b[0m\u001b[0;34m\u001b[0m\u001b[0m\n\u001b[0;32m---> 28\u001b[0;31m                     \u001b[0mdata\u001b[0m\u001b[0;34m.\u001b[0m\u001b[0mappend\u001b[0m\u001b[0;34m(\u001b[0m\u001b[0mnext\u001b[0m\u001b[0;34m(\u001b[0m\u001b[0mself\u001b[0m\u001b[0;34m.\u001b[0m\u001b[0mdataset_iter\u001b[0m\u001b[0;34m)\u001b[0m\u001b[0;34m)\u001b[0m\u001b[0;34m\u001b[0m\u001b[0;34m\u001b[0m\u001b[0m\n\u001b[0m\u001b[1;32m     29\u001b[0m                 \u001b[0;32mexcept\u001b[0m \u001b[0mStopIteration\u001b[0m\u001b[0;34m:\u001b[0m\u001b[0;34m\u001b[0m\u001b[0;34m\u001b[0m\u001b[0m\n\u001b[1;32m     30\u001b[0m                     \u001b[0;32mbreak\u001b[0m\u001b[0;34m\u001b[0m\u001b[0;34m\u001b[0m\u001b[0m\n",
      "\u001b[0;32m/media/rich/OS/Users/Richard/Linux_stuff_on_OS/conda_envs/envs/rapids-0.19/lib/python3.8/site-packages/tfrecord/iterator_utils.py\u001b[0m in \u001b[0;36msample_iterators\u001b[0;34m(iterators, ratios, infinite)\u001b[0m\n\u001b[1;32m     48\u001b[0m         \u001b[0mchoice\u001b[0m \u001b[0;34m=\u001b[0m \u001b[0mnp\u001b[0m\u001b[0;34m.\u001b[0m\u001b[0mrandom\u001b[0m\u001b[0;34m.\u001b[0m\u001b[0mchoice\u001b[0m\u001b[0;34m(\u001b[0m\u001b[0mlen\u001b[0m\u001b[0;34m(\u001b[0m\u001b[0mratios\u001b[0m\u001b[0;34m)\u001b[0m\u001b[0;34m,\u001b[0m \u001b[0mp\u001b[0m\u001b[0;34m=\u001b[0m\u001b[0mratios\u001b[0m\u001b[0;34m)\u001b[0m\u001b[0;34m\u001b[0m\u001b[0;34m\u001b[0m\u001b[0m\n\u001b[1;32m     49\u001b[0m         \u001b[0;32mtry\u001b[0m\u001b[0;34m:\u001b[0m\u001b[0;34m\u001b[0m\u001b[0;34m\u001b[0m\u001b[0m\n\u001b[0;32m---> 50\u001b[0;31m             \u001b[0;32myield\u001b[0m \u001b[0mnext\u001b[0m\u001b[0;34m(\u001b[0m\u001b[0miterators\u001b[0m\u001b[0;34m[\u001b[0m\u001b[0mchoice\u001b[0m\u001b[0;34m]\u001b[0m\u001b[0;34m)\u001b[0m\u001b[0;34m\u001b[0m\u001b[0;34m\u001b[0m\u001b[0m\n\u001b[0m\u001b[1;32m     51\u001b[0m         \u001b[0;32mexcept\u001b[0m \u001b[0mStopIteration\u001b[0m\u001b[0;34m:\u001b[0m\u001b[0;34m\u001b[0m\u001b[0;34m\u001b[0m\u001b[0m\n\u001b[1;32m     52\u001b[0m             \u001b[0;32mif\u001b[0m \u001b[0miterators\u001b[0m\u001b[0;34m:\u001b[0m\u001b[0;34m\u001b[0m\u001b[0;34m\u001b[0m\u001b[0m\n",
      "\u001b[0;32m/media/rich/OS/Users/Richard/Linux_stuff_on_OS/conda_envs/envs/rapids-0.19/lib/python3.8/site-packages/tfrecord/iterator_utils.py\u001b[0m in \u001b[0;36mcycle\u001b[0;34m(iterator_fn)\u001b[0m\n\u001b[1;32m     12\u001b[0m     \u001b[0;34m\"\"\"Create a repeating iterator from an iterator generator.\"\"\"\u001b[0m\u001b[0;34m\u001b[0m\u001b[0;34m\u001b[0m\u001b[0m\n\u001b[1;32m     13\u001b[0m     \u001b[0;32mwhile\u001b[0m \u001b[0;32mTrue\u001b[0m\u001b[0;34m:\u001b[0m\u001b[0;34m\u001b[0m\u001b[0;34m\u001b[0m\u001b[0m\n\u001b[0;32m---> 14\u001b[0;31m         \u001b[0;32mfor\u001b[0m \u001b[0melement\u001b[0m \u001b[0;32min\u001b[0m \u001b[0miterator_fn\u001b[0m\u001b[0;34m(\u001b[0m\u001b[0;34m)\u001b[0m\u001b[0;34m:\u001b[0m\u001b[0;34m\u001b[0m\u001b[0;34m\u001b[0m\u001b[0m\n\u001b[0m\u001b[1;32m     15\u001b[0m             \u001b[0;32myield\u001b[0m \u001b[0melement\u001b[0m\u001b[0;34m\u001b[0m\u001b[0;34m\u001b[0m\u001b[0m\n\u001b[1;32m     16\u001b[0m \u001b[0;34m\u001b[0m\u001b[0m\n",
      "\u001b[0;32m/media/rich/OS/Users/Richard/Linux_stuff_on_OS/conda_envs/envs/rapids-0.19/lib/python3.8/site-packages/tfrecord/reader.py\u001b[0m in \u001b[0;36mexample_loader\u001b[0;34m(data_path, index_path, description, shard, compression_type)\u001b[0m\n\u001b[1;32m    217\u001b[0m     )\n\u001b[1;32m    218\u001b[0m \u001b[0;34m\u001b[0m\u001b[0m\n\u001b[0;32m--> 219\u001b[0;31m     \u001b[0;32mfor\u001b[0m \u001b[0mrecord\u001b[0m \u001b[0;32min\u001b[0m \u001b[0mrecord_iterator\u001b[0m\u001b[0;34m:\u001b[0m\u001b[0;34m\u001b[0m\u001b[0;34m\u001b[0m\u001b[0m\n\u001b[0m\u001b[1;32m    220\u001b[0m         \u001b[0mexample\u001b[0m \u001b[0;34m=\u001b[0m \u001b[0mexample_pb2\u001b[0m\u001b[0;34m.\u001b[0m\u001b[0mExample\u001b[0m\u001b[0;34m(\u001b[0m\u001b[0;34m)\u001b[0m\u001b[0;34m\u001b[0m\u001b[0;34m\u001b[0m\u001b[0m\n\u001b[1;32m    221\u001b[0m         \u001b[0mexample\u001b[0m\u001b[0;34m.\u001b[0m\u001b[0mParseFromString\u001b[0m\u001b[0;34m(\u001b[0m\u001b[0mrecord\u001b[0m\u001b[0;34m)\u001b[0m\u001b[0;34m\u001b[0m\u001b[0;34m\u001b[0m\u001b[0m\n",
      "\u001b[0;32m/media/rich/OS/Users/Richard/Linux_stuff_on_OS/conda_envs/envs/rapids-0.19/lib/python3.8/site-packages/tfrecord/reader.py\u001b[0m in \u001b[0;36mtfrecord_iterator\u001b[0;34m(data_path, index_path, shard, compression_type)\u001b[0m\n\u001b[1;32m     48\u001b[0m         \u001b[0mfile\u001b[0m \u001b[0;34m=\u001b[0m \u001b[0mgzip\u001b[0m\u001b[0;34m.\u001b[0m\u001b[0mopen\u001b[0m\u001b[0;34m(\u001b[0m\u001b[0mdata_path\u001b[0m\u001b[0;34m,\u001b[0m \u001b[0;34m\"rb\"\u001b[0m\u001b[0;34m)\u001b[0m\u001b[0;34m\u001b[0m\u001b[0;34m\u001b[0m\u001b[0m\n\u001b[1;32m     49\u001b[0m     \u001b[0;32melif\u001b[0m \u001b[0mcompression_type\u001b[0m \u001b[0;32mis\u001b[0m \u001b[0;32mNone\u001b[0m\u001b[0;34m:\u001b[0m\u001b[0;34m\u001b[0m\u001b[0;34m\u001b[0m\u001b[0m\n\u001b[0;32m---> 50\u001b[0;31m         \u001b[0mfile\u001b[0m \u001b[0;34m=\u001b[0m \u001b[0mio\u001b[0m\u001b[0;34m.\u001b[0m\u001b[0mopen\u001b[0m\u001b[0;34m(\u001b[0m\u001b[0mdata_path\u001b[0m\u001b[0;34m,\u001b[0m \u001b[0;34m\"rb\"\u001b[0m\u001b[0;34m)\u001b[0m\u001b[0;34m\u001b[0m\u001b[0;34m\u001b[0m\u001b[0m\n\u001b[0m\u001b[1;32m     51\u001b[0m     \u001b[0;32melse\u001b[0m\u001b[0;34m:\u001b[0m\u001b[0;34m\u001b[0m\u001b[0;34m\u001b[0m\u001b[0m\n\u001b[1;32m     52\u001b[0m         \u001b[0;32mraise\u001b[0m \u001b[0mValueError\u001b[0m\u001b[0;34m(\u001b[0m\u001b[0;34m\"compression_type should be either 'gzip' or None\"\u001b[0m\u001b[0;34m)\u001b[0m\u001b[0;34m\u001b[0m\u001b[0;34m\u001b[0m\u001b[0m\n",
      "\u001b[0;31mFileNotFoundError\u001b[0m: [Errno 2] No such file or directory: '/bat_.tfrecord'"
     ]
    }
   ],
   "source": [
    "import torch\n",
    "from tfrecord.torch.dataset import MultiTFRecordDataset\n",
    "\n",
    "tfrecord_pattern = \"/bat_{}.tfrecord\"\n",
    "index_pattern = \"/bat_index\"\n",
    "splits = {\n",
    "    \"\": 0.8,\n",
    "    \"\": 0.2,\n",
    "}\n",
    "# description = {\"image\": \"byte\", \"label\": \"int\"}\n",
    "dataset = MultiTFRecordDataset(tfrecord_pattern,\n",
    "                               index_pattern,\n",
    "                               splits,\n",
    "#                                description\n",
    "                              )\n",
    "loader = torch.utils.data.DataLoader(dataset, batch_size=32)\n",
    "\n",
    "data = next(iter(loader))\n",
    "print(data)"
   ]
  },
  {
   "cell_type": "code",
   "execution_count": null,
   "id": "507923e9",
   "metadata": {},
   "outputs": [],
   "source": []
  },
  {
   "cell_type": "code",
   "execution_count": null,
   "id": "45a730fb",
   "metadata": {},
   "outputs": [],
   "source": []
  },
  {
   "cell_type": "code",
   "execution_count": null,
   "id": "366b55b2",
   "metadata": {},
   "outputs": [],
   "source": []
  },
  {
   "cell_type": "code",
   "execution_count": null,
   "id": "edf9e321",
   "metadata": {},
   "outputs": [],
   "source": []
  },
  {
   "cell_type": "code",
   "execution_count": null,
   "id": "1d396317",
   "metadata": {},
   "outputs": [],
   "source": []
  },
  {
   "cell_type": "code",
   "execution_count": null,
   "id": "0029f032",
   "metadata": {},
   "outputs": [],
   "source": []
  },
  {
   "cell_type": "code",
   "execution_count": null,
   "id": "03d472ea",
   "metadata": {},
   "outputs": [],
   "source": []
  },
  {
   "cell_type": "code",
   "execution_count": null,
   "id": "4cfd1768",
   "metadata": {},
   "outputs": [],
   "source": []
  },
  {
   "cell_type": "code",
   "execution_count": null,
   "id": "bd82395a",
   "metadata": {},
   "outputs": [],
   "source": []
  },
  {
   "cell_type": "code",
   "execution_count": null,
   "id": "71803a99",
   "metadata": {},
   "outputs": [],
   "source": []
  },
  {
   "cell_type": "code",
   "execution_count": null,
   "id": "84997e38",
   "metadata": {},
   "outputs": [],
   "source": []
  },
  {
   "cell_type": "code",
   "execution_count": null,
   "id": "800b9112",
   "metadata": {},
   "outputs": [],
   "source": []
  },
  {
   "cell_type": "code",
   "execution_count": null,
   "id": "0c6a20c4",
   "metadata": {},
   "outputs": [],
   "source": []
  },
  {
   "cell_type": "code",
   "execution_count": null,
   "id": "74a153b2",
   "metadata": {},
   "outputs": [],
   "source": []
  },
  {
   "cell_type": "code",
   "execution_count": null,
   "id": "87daee5c",
   "metadata": {},
   "outputs": [],
   "source": []
  },
  {
   "cell_type": "code",
   "execution_count": null,
   "id": "68616be8",
   "metadata": {},
   "outputs": [],
   "source": []
  }
 ],
 "metadata": {
  "kernelspec": {
   "display_name": "Python 3",
   "language": "python",
   "name": "python3"
  },
  "language_info": {
   "codemirror_mode": {
    "name": "ipython",
    "version": 3
   },
   "file_extension": ".py",
   "mimetype": "text/x-python",
   "name": "python",
   "nbconvert_exporter": "python",
   "pygments_lexer": "ipython3",
   "version": "3.8.8"
  }
 },
 "nbformat": 4,
 "nbformat_minor": 5
}
